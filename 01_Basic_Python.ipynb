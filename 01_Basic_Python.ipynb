{
  "nbformat": 4,
  "nbformat_minor": 0,
  "metadata": {
    "colab": {
      "name": "01-Basic-Python.ipynb",
      "provenance": [],
      "collapsed_sections": [],
      "include_colab_link": true
    },
    "kernelspec": {
      "name": "python3",
      "display_name": "Python 3"
    }
  },
  "cells": [
    {
      "cell_type": "markdown",
      "metadata": {
        "id": "view-in-github",
        "colab_type": "text"
      },
      "source": [
        "<a href=\"https://colab.research.google.com/github/Shailenderyedugani/DL_Class/blob/main/01_Basic_Python.ipynb\" target=\"_parent\"><img src=\"https://colab.research.google.com/assets/colab-badge.svg\" alt=\"Open In Colab\"/></a>"
      ]
    },
    {
      "cell_type": "markdown",
      "metadata": {
        "id": "6zOjh11Uk59-"
      },
      "source": [
        "# Basics of Python"
      ]
    },
    {
      "cell_type": "code",
      "metadata": {
        "colab": {
          "base_uri": "https://localhost:8080/"
        },
        "id": "3zVuw3P4m4Q-",
        "outputId": "9fc1ef6b-d648-4457-c89d-83f134778134"
      },
      "source": [
        "# Variable Assignment\n",
        "a = 4\n",
        "# Printing Variable\n",
        "print(a)"
      ],
      "execution_count": null,
      "outputs": [
        {
          "output_type": "stream",
          "text": [
            "4\n"
          ],
          "name": "stdout"
        }
      ]
    },
    {
      "cell_type": "code",
      "metadata": {
        "colab": {
          "base_uri": "https://localhost:8080/"
        },
        "id": "bweaZxAdwQkL",
        "outputId": "ce82ad67-97bc-4c0f-a3ef-7b2d5121d587"
      },
      "source": [
        "type(a)"
      ],
      "execution_count": null,
      "outputs": [
        {
          "output_type": "execute_result",
          "data": {
            "text/plain": [
              "int"
            ]
          },
          "metadata": {
            "tags": []
          },
          "execution_count": 2
        }
      ]
    },
    {
      "cell_type": "markdown",
      "metadata": {
        "id": "Q6AVMpJedqEh"
      },
      "source": [
        "## Basic Operators"
      ]
    },
    {
      "cell_type": "code",
      "metadata": {
        "id": "d0cSLNSAk5NT",
        "colab": {
          "base_uri": "https://localhost:8080/"
        },
        "outputId": "bd6cbeaf-ab4d-4b91-cddd-e7cf0f28517d"
      },
      "source": [
        "print(\"Addition: a+5 =\", a+5)\n",
        "print(\"Subraction: a-5 =\", a-5)\n",
        "print(\"Division: A/5 =\", a/5)\n",
        "print(\"Floor Division: A//5 =\", a//5)\n",
        "print(\"Multiplication: A*5 =\", a*5)\n",
        "print(\"Exponentiation: a**5 =\", a**5)\n",
        "print(\"Modulus: a%2 =\", a%2)"
      ],
      "execution_count": null,
      "outputs": [
        {
          "output_type": "stream",
          "text": [
            "Addition: a+5 = 9\n",
            "Subraction: a-5 = -1\n",
            "Division: A/5 = 0.8\n",
            "Floor Division: A//5 = 0\n",
            "Multiplication: A*5 = 20\n",
            "Exponentiation: a**5 = 1024\n",
            "Modulus: a%2 = 0\n"
          ],
          "name": "stdout"
        }
      ]
    },
    {
      "cell_type": "code",
      "metadata": {
        "colab": {
          "base_uri": "https://localhost:8080/"
        },
        "id": "rL2i8Jd_w0oU",
        "outputId": "1c19d242-f1ce-416e-cfe8-12181b7b6683"
      },
      "source": [
        "print(\"True and False = \", True and False)\n",
        "print(\"True or False = \", True or False)\n",
        "print(\"not False = \", not False)"
      ],
      "execution_count": null,
      "outputs": [
        {
          "output_type": "stream",
          "text": [
            "True and False =  False\n",
            "True or False =  True\n",
            "not False =  True\n"
          ],
          "name": "stdout"
        }
      ]
    },
    {
      "cell_type": "code",
      "metadata": {
        "colab": {
          "base_uri": "https://localhost:8080/"
        },
        "id": "CrxucOnDw4bm",
        "outputId": "c232a522-c499-408e-c00b-d3b2f5af96a4"
      },
      "source": [
        "print(\"Greater than: a >5 =\", a>5)\n",
        "print(\"Less Than: a<5 =\", a<5)\n",
        "print(\"Equal to: a==5 =\", a==5)"
      ],
      "execution_count": null,
      "outputs": [
        {
          "output_type": "stream",
          "text": [
            "Greater than: a >5 = False\n",
            "Less Than: a<5 = True\n",
            "Equal to: a==5 = False\n"
          ],
          "name": "stdout"
        }
      ]
    },
    {
      "cell_type": "code",
      "metadata": {
        "colab": {
          "base_uri": "https://localhost:8080/"
        },
        "id": "CmXw0UCjw7Wf",
        "outputId": "d9075374-4ec4-4f95-d2d1-b8b0a7367ad0"
      },
      "source": [
        "print(a/3)\n",
        "type(a/3)"
      ],
      "execution_count": null,
      "outputs": [
        {
          "output_type": "stream",
          "text": [
            "1.3333333333333333\n"
          ],
          "name": "stdout"
        },
        {
          "output_type": "execute_result",
          "data": {
            "text/plain": [
              "float"
            ]
          },
          "metadata": {
            "tags": []
          },
          "execution_count": 6
        }
      ]
    },
    {
      "cell_type": "code",
      "metadata": {
        "id": "4PUWXxZFzWKZ"
      },
      "source": [
        ""
      ],
      "execution_count": null,
      "outputs": []
    },
    {
      "cell_type": "code",
      "metadata": {
        "id": "ErxxyByH1vCy"
      },
      "source": [
        ""
      ],
      "execution_count": null,
      "outputs": []
    },
    {
      "cell_type": "markdown",
      "metadata": {
        "id": "KCuiYut4zOz0"
      },
      "source": [
        "## Complex Numbers"
      ]
    },
    {
      "cell_type": "code",
      "metadata": {
        "colab": {
          "base_uri": "https://localhost:8080/"
        },
        "id": "csq_KbLr2ogl",
        "outputId": "72c9351f-241c-40b9-cd84-0d581e53d9b4"
      },
      "source": [
        "1+0j"
      ],
      "execution_count": null,
      "outputs": [
        {
          "output_type": "execute_result",
          "data": {
            "text/plain": [
              "(1+0j)"
            ]
          },
          "metadata": {
            "tags": []
          },
          "execution_count": 7
        }
      ]
    },
    {
      "cell_type": "markdown",
      "metadata": {
        "id": "d5Y7Sl7S8MSe"
      },
      "source": [
        "## Strings"
      ]
    },
    {
      "cell_type": "code",
      "metadata": {
        "id": "Mm4_rQbr8Tpx"
      },
      "source": [
        "s1 = \"Hello\"\n",
        "s2 = \"World\""
      ],
      "execution_count": null,
      "outputs": []
    },
    {
      "cell_type": "code",
      "metadata": {
        "colab": {
          "base_uri": "https://localhost:8080/",
          "height": 41
        },
        "id": "EXkknFV68oIk",
        "outputId": "7fc61aa4-16b9-4efd-e712-3d9112d4e496"
      },
      "source": [
        "# Concatenation\n",
        "s1 + s2"
      ],
      "execution_count": null,
      "outputs": [
        {
          "output_type": "execute_result",
          "data": {
            "application/vnd.google.colaboratory.intrinsic+json": {
              "type": "string"
            },
            "text/plain": [
              "'HelloWorld'"
            ]
          },
          "metadata": {
            "tags": []
          },
          "execution_count": 9
        }
      ]
    },
    {
      "cell_type": "code",
      "metadata": {
        "colab": {
          "base_uri": "https://localhost:8080/"
        },
        "id": "f_MBJmuq8vvd",
        "outputId": "b3d49d42-a91a-4f48-9aa0-4e0eee62d14d"
      },
      "source": [
        "# Multiple Lines\n",
        "print(\"\"\"\\\n",
        "Hello\n",
        "World\n",
        "\"\"\")\n"
      ],
      "execution_count": null,
      "outputs": [
        {
          "output_type": "stream",
          "text": [
            "Hello\n",
            "World\n",
            "\n"
          ],
          "name": "stdout"
        }
      ]
    },
    {
      "cell_type": "code",
      "metadata": {
        "colab": {
          "base_uri": "https://localhost:8080/"
        },
        "id": "pKfSqlObkeko",
        "outputId": "d66e2e40-2536-4656-982a-5c14c1f462a5"
      },
      "source": [
        "# Length\n",
        "s = 'HelloWordl'\n",
        "len(s)"
      ],
      "execution_count": null,
      "outputs": [
        {
          "output_type": "execute_result",
          "data": {
            "text/plain": [
              "10"
            ]
          },
          "metadata": {
            "tags": []
          },
          "execution_count": 11
        }
      ]
    },
    {
      "cell_type": "code",
      "metadata": {
        "colab": {
          "base_uri": "https://localhost:8080/"
        },
        "id": "S0DaBOOuknRB",
        "outputId": "20229a90-0b69-43c6-cf53-97bf7eb35ca8"
      },
      "source": [
        "# Indexing\n",
        "print(s[1])\n",
        "print(s[1:5])\n",
        "print(s[2:-1])\n",
        "print(s[2:])\n",
        "print(s[:3])"
      ],
      "execution_count": null,
      "outputs": [
        {
          "output_type": "stream",
          "text": [
            "e\n",
            "ello\n",
            "lloWord\n",
            "lloWordl\n",
            "Hel\n"
          ],
          "name": "stdout"
        }
      ]
    },
    {
      "cell_type": "markdown",
      "metadata": {
        "id": "baD8dXKszkbn"
      },
      "source": [
        "## Lists"
      ]
    },
    {
      "cell_type": "code",
      "metadata": {
        "colab": {
          "base_uri": "https://localhost:8080/"
        },
        "id": "7d6MribaznwP",
        "outputId": "2f2bd568-9e28-48b7-b9ea-4ee0bcb2a74c"
      },
      "source": [
        "#creation of list\n",
        "list1 = [1,2,3,4]\n",
        "list2 = [4,9,1,2]\n",
        "#concatenation of lists\n",
        "list3 = list1 + list2\n",
        "list3"
      ],
      "execution_count": null,
      "outputs": [
        {
          "output_type": "execute_result",
          "data": {
            "text/plain": [
              "[1, 2, 3, 4, 4, 9, 1, 2]"
            ]
          },
          "metadata": {
            "tags": []
          },
          "execution_count": 13
        }
      ]
    },
    {
      "cell_type": "code",
      "metadata": {
        "colab": {
          "base_uri": "https://localhost:8080/"
        },
        "id": "hAdE0rxvk9rb",
        "outputId": "fb958899-60aa-4921-f2ca-b5e14d308263"
      },
      "source": [
        "print(list1[:])\n",
        "print(list1[1:])"
      ],
      "execution_count": null,
      "outputs": [
        {
          "output_type": "stream",
          "text": [
            "[1, 2, 3, 4]\n",
            "[2, 3, 4]\n"
          ],
          "name": "stdout"
        }
      ]
    },
    {
      "cell_type": "markdown",
      "metadata": {
        "id": "hT6XwM860G8O"
      },
      "source": [
        "### Adding Elements to list"
      ]
    },
    {
      "cell_type": "code",
      "metadata": {
        "colab": {
          "base_uri": "https://localhost:8080/"
        },
        "id": "kEzp0ISD0JiU",
        "outputId": "74a470e7-9e81-40e9-f060-59eb4a7c8a9c"
      },
      "source": [
        "list3.append(10)\n",
        "print(list3)"
      ],
      "execution_count": null,
      "outputs": [
        {
          "output_type": "stream",
          "text": [
            "[1, 2, 3, 4, 4, 9, 1, 2, 10]\n"
          ],
          "name": "stdout"
        }
      ]
    },
    {
      "cell_type": "markdown",
      "metadata": {
        "id": "d9bOCbMy0VOA"
      },
      "source": [
        "### Removing Elements from list"
      ]
    },
    {
      "cell_type": "code",
      "metadata": {
        "colab": {
          "base_uri": "https://localhost:8080/"
        },
        "id": "cfUvqiqT0UkK",
        "outputId": "03818153-f51c-44f3-8e7b-9185a8e2bf41"
      },
      "source": [
        "list3.remove(10)\n",
        "print(list3)"
      ],
      "execution_count": null,
      "outputs": [
        {
          "output_type": "stream",
          "text": [
            "[1, 2, 3, 4, 4, 9, 1, 2]\n"
          ],
          "name": "stdout"
        }
      ]
    },
    {
      "cell_type": "markdown",
      "metadata": {
        "id": "AsJ4vTkm1TAH"
      },
      "source": [
        "### Lists can contain elements of different types"
      ]
    },
    {
      "cell_type": "code",
      "metadata": {
        "colab": {
          "base_uri": "https://localhost:8080/"
        },
        "id": "Zao9J2_D1L2P",
        "outputId": "08e5bd1a-2e88-47df-ad1a-8d7f24a2cf43"
      },
      "source": [
        "list3.append(\"2\")\n",
        "list3"
      ],
      "execution_count": null,
      "outputs": [
        {
          "output_type": "execute_result",
          "data": {
            "text/plain": [
              "[1, 2, 3, 4, 4, 9, 1, 2, '2']"
            ]
          },
          "metadata": {
            "tags": []
          },
          "execution_count": 17
        }
      ]
    },
    {
      "cell_type": "markdown",
      "metadata": {
        "id": "FM9jB3o6z52-"
      },
      "source": [
        "### Removing last element from list"
      ]
    },
    {
      "cell_type": "code",
      "metadata": {
        "colab": {
          "base_uri": "https://localhost:8080/"
        },
        "id": "T-AL5ooj0nCD",
        "outputId": "49d45ff8-a8d9-498f-ca2b-0b1c8acd2643"
      },
      "source": [
        "print(\"Element removed:\",list3.pop())\n",
        "print(list3)\n"
      ],
      "execution_count": null,
      "outputs": [
        {
          "output_type": "stream",
          "text": [
            "Element removed: 2\n",
            "[1, 2, 3, 4, 4, 9, 1, 2]\n"
          ],
          "name": "stdout"
        }
      ]
    },
    {
      "cell_type": "markdown",
      "metadata": {
        "id": "83KxtNNZ0oKY"
      },
      "source": [
        "### Count of a element in list"
      ]
    },
    {
      "cell_type": "code",
      "metadata": {
        "colab": {
          "base_uri": "https://localhost:8080/"
        },
        "id": "1a4jbrEi16vj",
        "outputId": "b4f56a04-cfd9-496c-9eae-09837a08f9b8"
      },
      "source": [
        "list3.count(1)"
      ],
      "execution_count": null,
      "outputs": [
        {
          "output_type": "execute_result",
          "data": {
            "text/plain": [
              "2"
            ]
          },
          "metadata": {
            "tags": []
          },
          "execution_count": 19
        }
      ]
    },
    {
      "cell_type": "markdown",
      "metadata": {
        "id": "GtQrcsj8zyoO"
      },
      "source": [
        "### Set can be used to remove duplicattes"
      ]
    },
    {
      "cell_type": "code",
      "metadata": {
        "colab": {
          "base_uri": "https://localhost:8080/"
        },
        "id": "FRdiUdoNz5iZ",
        "outputId": "ef244885-da1c-4f02-954a-5bcae8c8b49b"
      },
      "source": [
        "set(list3)"
      ],
      "execution_count": null,
      "outputs": [
        {
          "output_type": "execute_result",
          "data": {
            "text/plain": [
              "{1, 2, 3, 4, 9}"
            ]
          },
          "metadata": {
            "tags": []
          },
          "execution_count": 20
        }
      ]
    },
    {
      "cell_type": "markdown",
      "metadata": {
        "id": "LD1uW9Aym3Av"
      },
      "source": [
        "### List Comprehensions"
      ]
    },
    {
      "cell_type": "code",
      "metadata": {
        "colab": {
          "base_uri": "https://localhost:8080/"
        },
        "id": "Pp8iD8wLm6Yq",
        "outputId": "77c44eb2-66b5-4f2c-8c7c-2faef51e8abc"
      },
      "source": [
        "squares = list(map(lambda x: x**2, range(10)))\n",
        "print(squares)"
      ],
      "execution_count": null,
      "outputs": [
        {
          "output_type": "stream",
          "text": [
            "[0, 1, 4, 9, 16, 25, 36, 49, 64, 81]\n"
          ],
          "name": "stdout"
        }
      ]
    },
    {
      "cell_type": "code",
      "metadata": {
        "colab": {
          "base_uri": "https://localhost:8080/"
        },
        "id": "Nm_AogWgnMpZ",
        "outputId": "3deaeffb-9e9e-4fd0-b489-da9997d7f6d1"
      },
      "source": [
        "[(x, y) for x in [10,5,1] for y in [1,9,1] if x != y]"
      ],
      "execution_count": null,
      "outputs": [
        {
          "output_type": "execute_result",
          "data": {
            "text/plain": [
              "[(10, 1), (10, 9), (10, 1), (5, 1), (5, 9), (5, 1), (1, 9)]"
            ]
          },
          "metadata": {
            "tags": []
          },
          "execution_count": 22
        }
      ]
    },
    {
      "cell_type": "code",
      "metadata": {
        "colab": {
          "base_uri": "https://localhost:8080/"
        },
        "id": "y3dK0t0rne1E",
        "outputId": "b91639c1-960e-405b-eb06-818919d0a231"
      },
      "source": [
        "matrix = [\n",
        "    [1, 2, 3, 4],\n",
        "    [5, 6, 7, 8],\n",
        "    [9, 10, 11, 12],\n",
        "]\n",
        "print(list(zip(*matrix)))"
      ],
      "execution_count": null,
      "outputs": [
        {
          "output_type": "stream",
          "text": [
            "[(1, 5, 9), (2, 6, 10), (3, 7, 11), (4, 8, 12)]\n"
          ],
          "name": "stdout"
        }
      ]
    },
    {
      "cell_type": "markdown",
      "metadata": {
        "id": "ybK0supQoMIR"
      },
      "source": [
        "## Dictionaries"
      ]
    },
    {
      "cell_type": "code",
      "metadata": {
        "colab": {
          "base_uri": "https://localhost:8080/"
        },
        "id": "vHtTxzlBoPKk",
        "outputId": "bd74a65f-2549-450d-836d-6304788a4b13"
      },
      "source": [
        "tel = {'1': 1, '2': 2}\n",
        "# Looping\n",
        "for k, v in tel.items():\n",
        "     print(k, v)"
      ],
      "execution_count": null,
      "outputs": [
        {
          "output_type": "stream",
          "text": [
            "1 1\n",
            "2 2\n"
          ],
          "name": "stdout"
        }
      ]
    },
    {
      "cell_type": "markdown",
      "metadata": {
        "id": "Ltd6sUr6lMX1"
      },
      "source": [
        "## Condition Flow"
      ]
    },
    {
      "cell_type": "code",
      "metadata": {
        "colab": {
          "base_uri": "https://localhost:8080/"
        },
        "id": "-PRBtGU_lQOp",
        "outputId": "9c76126d-e958-4efa-e537-a65de5114257"
      },
      "source": [
        "# While Loop\n",
        "# Fibonacci\n",
        "a, b = 0, 1\n",
        "while a < 20:\n",
        "       print(a)\n",
        "       a, b = b, a+b"
      ],
      "execution_count": null,
      "outputs": [
        {
          "output_type": "stream",
          "text": [
            "0\n",
            "1\n",
            "1\n",
            "2\n",
            "3\n",
            "5\n",
            "8\n",
            "13\n"
          ],
          "name": "stdout"
        }
      ]
    },
    {
      "cell_type": "code",
      "metadata": {
        "colab": {
          "base_uri": "https://localhost:8080/"
        },
        "id": "jOQ_li4Vl04S",
        "outputId": "b72a200b-18d2-42cb-df3f-b5a06a1a254b"
      },
      "source": [
        "# For Loop\n",
        "for i in range(3):  # range produces an iterable\n",
        "    print(i)"
      ],
      "execution_count": null,
      "outputs": [
        {
          "output_type": "stream",
          "text": [
            "0\n",
            "1\n",
            "2\n"
          ],
          "name": "stdout"
        }
      ]
    },
    {
      "cell_type": "code",
      "metadata": {
        "colab": {
          "base_uri": "https://localhost:8080/"
        },
        "id": "SWxlnVYlohtz",
        "outputId": "e4718b83-84b5-4926-b0fa-875e3d87f92d"
      },
      "source": [
        "# for loop for writing tables\r\n",
        "for i in range(0,11):\r\n",
        "  print(\"2\",\"*\",i,\"=\",2*i)"
      ],
      "execution_count": 1,
      "outputs": [
        {
          "output_type": "stream",
          "text": [
            "2 * 0 = 0\n",
            "2 * 1 = 2\n",
            "2 * 2 = 4\n",
            "2 * 3 = 6\n",
            "2 * 4 = 8\n",
            "2 * 5 = 10\n",
            "2 * 6 = 12\n",
            "2 * 7 = 14\n",
            "2 * 8 = 16\n",
            "2 * 9 = 18\n",
            "2 * 10 = 20\n"
          ],
          "name": "stdout"
        }
      ]
    },
    {
      "cell_type": "code",
      "metadata": {
        "colab": {
          "base_uri": "https://localhost:8080/"
        },
        "id": "57eIqtQVmOiW",
        "outputId": "a2933d6f-01e2-44dc-bf8c-095a66963fb5"
      },
      "source": [
        "# Lambda Functions\n",
        "pairs = [(1, 'one'), (2, 'two'), (3, 'three'), (4, 'four')]\n",
        "pairs.sort(key=lambda pair: pair[1])\n",
        "pairs\n"
      ],
      "execution_count": null,
      "outputs": [
        {
          "output_type": "execute_result",
          "data": {
            "text/plain": [
              "[(4, 'four'), (1, 'one'), (3, 'three'), (2, 'two')]"
            ]
          },
          "metadata": {
            "tags": []
          },
          "execution_count": 27
        }
      ]
    },
    {
      "cell_type": "markdown",
      "metadata": {
        "id": "feDQ8gcH2Azp"
      },
      "source": [
        "# Numpy"
      ]
    },
    {
      "cell_type": "code",
      "metadata": {
        "id": "UJY9e5NseYnK",
        "colab": {
          "base_uri": "https://localhost:8080/"
        },
        "outputId": "d051817a-fb8f-4230-f577-1b6ed847944c"
      },
      "source": [
        "import numpy as np\n",
        "print(np.__version__)"
      ],
      "execution_count": 2,
      "outputs": [
        {
          "output_type": "stream",
          "text": [
            "1.19.5\n"
          ],
          "name": "stdout"
        }
      ]
    },
    {
      "cell_type": "code",
      "metadata": {
        "colab": {
          "base_uri": "https://localhost:8080/"
        },
        "id": "JJvVZ7JopGXs",
        "outputId": "ddc6be1c-766c-497a-d64e-fc89ebc9388e"
      },
      "source": [
        "# integer array\r\n",
        "np.array([1,2,3,4])"
      ],
      "execution_count": 3,
      "outputs": [
        {
          "output_type": "execute_result",
          "data": {
            "text/plain": [
              "array([1, 2, 3, 4])"
            ]
          },
          "metadata": {
            "tags": []
          },
          "execution_count": 3
        }
      ]
    },
    {
      "cell_type": "code",
      "metadata": {
        "colab": {
          "base_uri": "https://localhost:8080/"
        },
        "id": "KCy-ieevpdRL",
        "outputId": "075c819d-d2cf-491a-bbc9-519784f5cbde"
      },
      "source": [
        "# nested lists results in multidimensional array\r\n",
        "np.array([range(i,i+3) for i in [2,4,6]])"
      ],
      "execution_count": 4,
      "outputs": [
        {
          "output_type": "execute_result",
          "data": {
            "text/plain": [
              "array([[2, 3, 4],\n",
              "       [4, 5, 6],\n",
              "       [6, 7, 8]])"
            ]
          },
          "metadata": {
            "tags": []
          },
          "execution_count": 4
        }
      ]
    },
    {
      "cell_type": "code",
      "metadata": {
        "colab": {
          "base_uri": "https://localhost:8080/"
        },
        "id": "9cGRZOYRebjj",
        "outputId": "f1c08363-bb5c-4bf4-b10f-e87074680bbb"
      },
      "source": [
        "# Ranges\n",
        "x = np.arange(0,15, 2)\n",
        "print(\"Range from 0 to less than 15 with step 2:\", x)"
      ],
      "execution_count": null,
      "outputs": [
        {
          "output_type": "stream",
          "text": [
            "Range from 0 to less than 15 with step 2: [ 0  2  4  6  8 10 12 14]\n"
          ],
          "name": "stdout"
        }
      ]
    },
    {
      "cell_type": "code",
      "metadata": {
        "colab": {
          "base_uri": "https://localhost:8080/",
          "height": 41
        },
        "id": "F1kGSnIEfuCN",
        "outputId": "06c6c990-45d9-4cfb-8381-2b0b99bba1f4"
      },
      "source": [
        "# Data Type\n",
        "x.dtype.name"
      ],
      "execution_count": null,
      "outputs": [
        {
          "output_type": "execute_result",
          "data": {
            "application/vnd.google.colaboratory.intrinsic+json": {
              "type": "string"
            },
            "text/plain": [
              "'int64'"
            ]
          },
          "metadata": {
            "tags": []
          },
          "execution_count": 30
        }
      ]
    },
    {
      "cell_type": "code",
      "metadata": {
        "colab": {
          "base_uri": "https://localhost:8080/"
        },
        "id": "rJ6mpPsTezh2",
        "outputId": "7d6e00e9-33fa-466b-c977-e976fd9c39e3"
      },
      "source": [
        "# Shape\n",
        "print(\"Shape:\", x.shape)\n",
        "print(\"Dimensions:\", x.ndim)\n",
        "print(\"Size:\", x.size)\n",
        "print(\"Item size:\", x.itemsize)"
      ],
      "execution_count": null,
      "outputs": [
        {
          "output_type": "stream",
          "text": [
            "Shape: (8,)\n",
            "Dimensions: 1\n",
            "Size: 8\n",
            "Item size: 8\n"
          ],
          "name": "stdout"
        }
      ]
    },
    {
      "cell_type": "code",
      "metadata": {
        "colab": {
          "base_uri": "https://localhost:8080/"
        },
        "id": "5L15A9L2fVUT",
        "outputId": "8eaef253-8524-4ef2-e6e0-9304c1f71a0b"
      },
      "source": [
        "# Reshape \n",
        "y = x.reshape(2,4)\n",
        "print(\"Reshaped as 2x4:\", y)\n",
        "print(\"Shape:\", y.shape)\n",
        "print(\"Dimensions:\", y.ndim)\n",
        "print(\"Size:\", y.size)"
      ],
      "execution_count": null,
      "outputs": [
        {
          "output_type": "stream",
          "text": [
            "Reshaped as 2x4: [[ 0  2  4  6]\n",
            " [ 8 10 12 14]]\n",
            "Shape: (2, 4)\n",
            "Dimensions: 2\n",
            "Size: 8\n"
          ],
          "name": "stdout"
        }
      ]
    },
    {
      "cell_type": "code",
      "metadata": {
        "colab": {
          "base_uri": "https://localhost:8080/"
        },
        "id": "09kBbpmgxeUh",
        "outputId": "e1ce5adf-5057-412d-f0f0-5e88fc7b7aec"
      },
      "source": [
        "a.dtype"
      ],
      "execution_count": null,
      "outputs": [
        {
          "output_type": "execute_result",
          "data": {
            "text/plain": [
              "dtype('int64')"
            ]
          },
          "metadata": {
            "tags": []
          },
          "execution_count": 34
        }
      ]
    },
    {
      "cell_type": "code",
      "metadata": {
        "colab": {
          "base_uri": "https://localhost:8080/"
        },
        "id": "N9nbZq94xiOT",
        "outputId": "7d6c1b02-7b9c-41ee-e015-4a53510ed2d3"
      },
      "source": [
        "# array of complex numbers\n",
        "c = np.array( [ [1,2], [3,4] ], dtype=complex )\n",
        "print(c)"
      ],
      "execution_count": null,
      "outputs": [
        {
          "output_type": "stream",
          "text": [
            "[[1.+0.j 2.+0.j]\n",
            " [3.+0.j 4.+0.j]]\n"
          ],
          "name": "stdout"
        }
      ]
    },
    {
      "cell_type": "code",
      "metadata": {
        "colab": {
          "base_uri": "https://localhost:8080/"
        },
        "id": "kYx-9lqBxrp7",
        "outputId": "a82025da-c9dd-4e8d-c2b2-678aee8d9256"
      },
      "source": [
        "# Zeros\n",
        "np.zeros((3, 4))"
      ],
      "execution_count": null,
      "outputs": [
        {
          "output_type": "execute_result",
          "data": {
            "text/plain": [
              "array([[0., 0., 0., 0.],\n",
              "       [0., 0., 0., 0.],\n",
              "       [0., 0., 0., 0.]])"
            ]
          },
          "metadata": {
            "tags": []
          },
          "execution_count": 36
        }
      ]
    },
    {
      "cell_type": "code",
      "metadata": {
        "colab": {
          "base_uri": "https://localhost:8080/"
        },
        "id": "epuTAA2rxuVy",
        "outputId": "dd86b2c3-3e33-4a06-f6da-6faf61fd14aa"
      },
      "source": [
        "# Ones\n",
        "np.ones( (2,3,4))"
      ],
      "execution_count": null,
      "outputs": [
        {
          "output_type": "execute_result",
          "data": {
            "text/plain": [
              "array([[[1., 1., 1., 1.],\n",
              "        [1., 1., 1., 1.],\n",
              "        [1., 1., 1., 1.]],\n",
              "\n",
              "       [[1., 1., 1., 1.],\n",
              "        [1., 1., 1., 1.],\n",
              "        [1., 1., 1., 1.]]])"
            ]
          },
          "metadata": {
            "tags": []
          },
          "execution_count": 37
        }
      ]
    },
    {
      "cell_type": "code",
      "metadata": {
        "colab": {
          "base_uri": "https://localhost:8080/"
        },
        "id": "fWQsWrA0x0so",
        "outputId": "eb3da80b-c3a2-41af-ee47-bf2193ac8e73"
      },
      "source": [
        "np.empty( (2,3) )"
      ],
      "execution_count": null,
      "outputs": [
        {
          "output_type": "execute_result",
          "data": {
            "text/plain": [
              "array([[2.6899163e-316, 0.0000000e+000, 0.0000000e+000],\n",
              "       [0.0000000e+000, 0.0000000e+000, 0.0000000e+000]])"
            ]
          },
          "metadata": {
            "tags": []
          },
          "execution_count": 38
        }
      ]
    },
    {
      "cell_type": "code",
      "metadata": {
        "colab": {
          "base_uri": "https://localhost:8080/"
        },
        "id": "z33V1MT8x9KE",
        "outputId": "65e7c433-1ea8-4123-8c3d-e4c34b82c347"
      },
      "source": [
        "x = np.linspace( 0, 2*np.pi, 100 ) \n",
        "print(x)"
      ],
      "execution_count": null,
      "outputs": [
        {
          "output_type": "stream",
          "text": [
            "[0.         0.06346652 0.12693304 0.19039955 0.25386607 0.31733259\n",
            " 0.38079911 0.44426563 0.50773215 0.57119866 0.63466518 0.6981317\n",
            " 0.76159822 0.82506474 0.88853126 0.95199777 1.01546429 1.07893081\n",
            " 1.14239733 1.20586385 1.26933037 1.33279688 1.3962634  1.45972992\n",
            " 1.52319644 1.58666296 1.65012947 1.71359599 1.77706251 1.84052903\n",
            " 1.90399555 1.96746207 2.03092858 2.0943951  2.15786162 2.22132814\n",
            " 2.28479466 2.34826118 2.41172769 2.47519421 2.53866073 2.60212725\n",
            " 2.66559377 2.72906028 2.7925268  2.85599332 2.91945984 2.98292636\n",
            " 3.04639288 3.10985939 3.17332591 3.23679243 3.30025895 3.36372547\n",
            " 3.42719199 3.4906585  3.55412502 3.61759154 3.68105806 3.74452458\n",
            " 3.8079911  3.87145761 3.93492413 3.99839065 4.06185717 4.12532369\n",
            " 4.1887902  4.25225672 4.31572324 4.37918976 4.44265628 4.5061228\n",
            " 4.56958931 4.63305583 4.69652235 4.75998887 4.82345539 4.88692191\n",
            " 4.95038842 5.01385494 5.07732146 5.14078798 5.2042545  5.26772102\n",
            " 5.33118753 5.39465405 5.45812057 5.52158709 5.58505361 5.64852012\n",
            " 5.71198664 5.77545316 5.83891968 5.9023862  5.96585272 6.02931923\n",
            " 6.09278575 6.15625227 6.21971879 6.28318531]\n"
          ],
          "name": "stdout"
        }
      ]
    },
    {
      "cell_type": "code",
      "metadata": {
        "colab": {
          "base_uri": "https://localhost:8080/"
        },
        "id": "Ba9NZO5_x5L0",
        "outputId": "b5649a9e-d26e-46a8-f91a-d75a3015652e"
      },
      "source": [
        "f = np.sin(x)\n",
        "print(f)"
      ],
      "execution_count": null,
      "outputs": [
        {
          "output_type": "stream",
          "text": [
            "[ 0.00000000e+00  6.34239197e-02  1.26592454e-01  1.89251244e-01\n",
            "  2.51147987e-01  3.12033446e-01  3.71662456e-01  4.29794912e-01\n",
            "  4.86196736e-01  5.40640817e-01  5.92907929e-01  6.42787610e-01\n",
            "  6.90079011e-01  7.34591709e-01  7.76146464e-01  8.14575952e-01\n",
            "  8.49725430e-01  8.81453363e-01  9.09631995e-01  9.34147860e-01\n",
            "  9.54902241e-01  9.71811568e-01  9.84807753e-01  9.93838464e-01\n",
            "  9.98867339e-01  9.99874128e-01  9.96854776e-01  9.89821442e-01\n",
            "  9.78802446e-01  9.63842159e-01  9.45000819e-01  9.22354294e-01\n",
            "  8.95993774e-01  8.66025404e-01  8.32569855e-01  7.95761841e-01\n",
            "  7.55749574e-01  7.12694171e-01  6.66769001e-01  6.18158986e-01\n",
            "  5.67059864e-01  5.13677392e-01  4.58226522e-01  4.00930535e-01\n",
            "  3.42020143e-01  2.81732557e-01  2.20310533e-01  1.58001396e-01\n",
            "  9.50560433e-02  3.17279335e-02 -3.17279335e-02 -9.50560433e-02\n",
            " -1.58001396e-01 -2.20310533e-01 -2.81732557e-01 -3.42020143e-01\n",
            " -4.00930535e-01 -4.58226522e-01 -5.13677392e-01 -5.67059864e-01\n",
            " -6.18158986e-01 -6.66769001e-01 -7.12694171e-01 -7.55749574e-01\n",
            " -7.95761841e-01 -8.32569855e-01 -8.66025404e-01 -8.95993774e-01\n",
            " -9.22354294e-01 -9.45000819e-01 -9.63842159e-01 -9.78802446e-01\n",
            " -9.89821442e-01 -9.96854776e-01 -9.99874128e-01 -9.98867339e-01\n",
            " -9.93838464e-01 -9.84807753e-01 -9.71811568e-01 -9.54902241e-01\n",
            " -9.34147860e-01 -9.09631995e-01 -8.81453363e-01 -8.49725430e-01\n",
            " -8.14575952e-01 -7.76146464e-01 -7.34591709e-01 -6.90079011e-01\n",
            " -6.42787610e-01 -5.92907929e-01 -5.40640817e-01 -4.86196736e-01\n",
            " -4.29794912e-01 -3.71662456e-01 -3.12033446e-01 -2.51147987e-01\n",
            " -1.89251244e-01 -1.26592454e-01 -6.34239197e-02 -2.44929360e-16]\n"
          ],
          "name": "stdout"
        }
      ]
    },
    {
      "cell_type": "code",
      "metadata": {
        "id": "nNdC4QrtyLj7",
        "colab": {
          "base_uri": "https://localhost:8080/"
        },
        "outputId": "69a952c8-c61d-4cfe-b7b6-5499287cfc7e"
      },
      "source": [
        "a = np.arange(10)**3\r\n",
        "a"
      ],
      "execution_count": 5,
      "outputs": [
        {
          "output_type": "execute_result",
          "data": {
            "text/plain": [
              "array([  0,   1,   8,  27,  64, 125, 216, 343, 512, 729])"
            ]
          },
          "metadata": {
            "tags": []
          },
          "execution_count": 5
        }
      ]
    },
    {
      "cell_type": "code",
      "metadata": {
        "colab": {
          "base_uri": "https://localhost:8080/"
        },
        "id": "tYxzZTUyqMxE",
        "outputId": "4ac57628-15aa-4afb-a9c7-e871b13c78ea"
      },
      "source": [
        "np.random.random((3,3))"
      ],
      "execution_count": 6,
      "outputs": [
        {
          "output_type": "execute_result",
          "data": {
            "text/plain": [
              "array([[0.31218715, 0.14749276, 0.79469149],\n",
              "       [0.94345021, 0.5337711 , 0.10242705],\n",
              "       [0.88109729, 0.00297447, 0.5430896 ]])"
            ]
          },
          "metadata": {
            "tags": []
          },
          "execution_count": 6
        }
      ]
    },
    {
      "cell_type": "code",
      "metadata": {
        "colab": {
          "base_uri": "https://localhost:8080/"
        },
        "id": "098J6YlLqMzd",
        "outputId": "6dc2efbe-23ff-4d70-a371-1c778b7a0543"
      },
      "source": [
        "np.random.randint(0,10,(4,4))"
      ],
      "execution_count": 7,
      "outputs": [
        {
          "output_type": "execute_result",
          "data": {
            "text/plain": [
              "array([[2, 4, 6, 2],\n",
              "       [3, 4, 5, 7],\n",
              "       [4, 4, 8, 1],\n",
              "       [5, 9, 1, 4]])"
            ]
          },
          "metadata": {
            "tags": []
          },
          "execution_count": 7
        }
      ]
    },
    {
      "cell_type": "code",
      "metadata": {
        "colab": {
          "base_uri": "https://localhost:8080/"
        },
        "id": "90A-rrDSqM2J",
        "outputId": "6611e2ef-305a-49b7-fc77-02963c063529"
      },
      "source": [
        "# accessing subarrays\r\n",
        "x = np.arange(10)\r\n",
        "print(x[:])\r\n",
        "print(x[1:3])\r\n",
        "print(x[1:])\r\n",
        "print(x[:2])"
      ],
      "execution_count": 9,
      "outputs": [
        {
          "output_type": "stream",
          "text": [
            "[0 1 2 3 4 5 6 7 8 9]\n",
            "[1 2]\n",
            "[1 2 3 4 5 6 7 8 9]\n",
            "[0 1]\n"
          ],
          "name": "stdout"
        }
      ]
    },
    {
      "cell_type": "code",
      "metadata": {
        "colab": {
          "base_uri": "https://localhost:8080/"
        },
        "id": "LuBMCXmnra4O",
        "outputId": "a38458b6-7c9c-44b0-b783-6742563e98ef"
      },
      "source": [
        "# reshaping of array\r\n",
        "a = np.arange(1,10)\r\n",
        "a\r\n"
      ],
      "execution_count": 13,
      "outputs": [
        {
          "output_type": "execute_result",
          "data": {
            "text/plain": [
              "array([1, 2, 3, 4, 5, 6, 7, 8, 9])"
            ]
          },
          "metadata": {
            "tags": []
          },
          "execution_count": 13
        }
      ]
    },
    {
      "cell_type": "code",
      "metadata": {
        "colab": {
          "base_uri": "https://localhost:8080/"
        },
        "id": "rdh5BpYIrvvc",
        "outputId": "8a6d16e4-c2f7-4de9-a261-653963452716"
      },
      "source": [
        "a.reshape((3,3))"
      ],
      "execution_count": 11,
      "outputs": [
        {
          "output_type": "execute_result",
          "data": {
            "text/plain": [
              "array([[1, 2, 3],\n",
              "       [4, 5, 6],\n",
              "       [7, 8, 9]])"
            ]
          },
          "metadata": {
            "tags": []
          },
          "execution_count": 11
        }
      ]
    },
    {
      "cell_type": "code",
      "metadata": {
        "colab": {
          "base_uri": "https://localhost:8080/"
        },
        "id": "eEGz9NqKrvx8",
        "outputId": "8d68e0ca-72aa-433e-9508-26a262886d3e"
      },
      "source": [
        "# concatenation of arrays\r\n",
        "w =np.array([1,2,3])\r\n",
        "e = np.array([4,5,6])\r\n",
        "f = np.array([7,8,9])\r\n",
        "np.concatenate([w,e,f])"
      ],
      "execution_count": 14,
      "outputs": [
        {
          "output_type": "execute_result",
          "data": {
            "text/plain": [
              "array([1, 2, 3, 4, 5, 6, 7, 8, 9])"
            ]
          },
          "metadata": {
            "tags": []
          },
          "execution_count": 14
        }
      ]
    },
    {
      "cell_type": "markdown",
      "metadata": {
        "id": "0GF3YSdp1jPU"
      },
      "source": [
        "# Pandas"
      ]
    },
    {
      "cell_type": "markdown",
      "metadata": {
        "id": "puGjOhUS1oMc"
      },
      "source": [
        "## Series And DataFrame"
      ]
    },
    {
      "cell_type": "code",
      "metadata": {
        "id": "MveodX7_15xk",
        "colab": {
          "base_uri": "https://localhost:8080/"
        },
        "outputId": "f3fdb288-823e-4058-c362-79644bff967c"
      },
      "source": [
        "import pandas as pd\n",
        "print(pd.__version__)"
      ],
      "execution_count": 15,
      "outputs": [
        {
          "output_type": "stream",
          "text": [
            "1.1.5\n"
          ],
          "name": "stdout"
        }
      ]
    },
    {
      "cell_type": "code",
      "metadata": {
        "colab": {
          "base_uri": "https://localhost:8080/"
        },
        "id": "I-UEEJyFs1Ij",
        "outputId": "5608e51f-7b39-4c9e-894f-eb17f7077ec2"
      },
      "source": [
        "data = pd.Series([1,2,3,4])\r\n",
        "data"
      ],
      "execution_count": 17,
      "outputs": [
        {
          "output_type": "execute_result",
          "data": {
            "text/plain": [
              "0    1\n",
              "1    2\n",
              "2    3\n",
              "3    4\n",
              "dtype: int64"
            ]
          },
          "metadata": {
            "tags": []
          },
          "execution_count": 17
        }
      ]
    },
    {
      "cell_type": "code",
      "metadata": {
        "colab": {
          "base_uri": "https://localhost:8080/"
        },
        "id": "HUp688HA3APp",
        "outputId": "424f0a93-ce3d-416a-99b7-f00e74bffa80"
      },
      "source": [
        " df = pd.DataFrame(\n",
        "     {\n",
        "         \"Name\": [\n",
        "             \"Issac Newton\",\n",
        "             \"Stephen Hawking\",\n",
        "             \"Albert Einstein\",\n",
        "             \"Marie Curie\"\n",
        "         ],\n",
        "         \"Age\": [84,76 , 76, 66],\n",
        "         \"Sex\": [\"male\", \"male\", \"male\", \"female\"],\n",
        "     }\n",
        " )\n",
        " \n",
        "print(df)"
      ],
      "execution_count": null,
      "outputs": [
        {
          "output_type": "stream",
          "text": [
            "              Name  Age     Sex\n",
            "0     Issac Newton   84    male\n",
            "1  Stephen Hawking   76    male\n",
            "2  Albert Einstein   76    male\n",
            "3      Marie Curie   66  female\n"
          ],
          "name": "stdout"
        }
      ]
    },
    {
      "cell_type": "code",
      "metadata": {
        "colab": {
          "base_uri": "https://localhost:8080/"
        },
        "id": "ZQoLqM5R3sC3",
        "outputId": "8133f275-817c-462a-90aa-2d91d566094a"
      },
      "source": [
        "df[\"Age\"]  # This is a series. A DataFrame is a 2 D series"
      ],
      "execution_count": null,
      "outputs": [
        {
          "output_type": "execute_result",
          "data": {
            "text/plain": [
              "0    84\n",
              "1    76\n",
              "2    76\n",
              "3    66\n",
              "Name: Age, dtype: int64"
            ]
          },
          "metadata": {
            "tags": []
          },
          "execution_count": 44
        }
      ]
    },
    {
      "cell_type": "code",
      "metadata": {
        "colab": {
          "base_uri": "https://localhost:8080/"
        },
        "id": "zUxJv75C4PWM",
        "outputId": "865aeb91-2da9-4cb4-aa73-9bb9fd9688f8"
      },
      "source": [
        " # Max Age in series of age\n",
        "print(df[\"Age\"].max())\n",
        " # Min Age in series of age\n",
        "print(df[\"Age\"].min())\n",
        " # Mean Age in series of age\n",
        "print(df[\"Age\"].mean())\n",
        " # Median Age in series of age\n",
        "print(df[\"Age\"].median())\n",
        " # Mode Age\n",
        "print(df[\"Age\"].mode())"
      ],
      "execution_count": null,
      "outputs": [
        {
          "output_type": "stream",
          "text": [
            "84\n",
            "66\n",
            "75.5\n",
            "76.0\n",
            "0    76\n",
            "dtype: int64\n"
          ],
          "name": "stdout"
        }
      ]
    },
    {
      "cell_type": "code",
      "metadata": {
        "colab": {
          "base_uri": "https://localhost:8080/"
        },
        "id": "hHnnpjwY4sxg",
        "outputId": "6553eefb-19e3-458a-d26b-263c35aba82a"
      },
      "source": [
        "# Description of Data\n",
        "df.describe()"
      ],
      "execution_count": null,
      "outputs": [
        {
          "output_type": "execute_result",
          "data": {
            "text/html": [
              "<div>\n",
              "<style scoped>\n",
              "    .dataframe tbody tr th:only-of-type {\n",
              "        vertical-align: middle;\n",
              "    }\n",
              "\n",
              "    .dataframe tbody tr th {\n",
              "        vertical-align: top;\n",
              "    }\n",
              "\n",
              "    .dataframe thead th {\n",
              "        text-align: right;\n",
              "    }\n",
              "</style>\n",
              "<table border=\"1\" class=\"dataframe\">\n",
              "  <thead>\n",
              "    <tr style=\"text-align: right;\">\n",
              "      <th></th>\n",
              "      <th>Age</th>\n",
              "    </tr>\n",
              "  </thead>\n",
              "  <tbody>\n",
              "    <tr>\n",
              "      <th>count</th>\n",
              "      <td>4.000000</td>\n",
              "    </tr>\n",
              "    <tr>\n",
              "      <th>mean</th>\n",
              "      <td>75.500000</td>\n",
              "    </tr>\n",
              "    <tr>\n",
              "      <th>std</th>\n",
              "      <td>7.371115</td>\n",
              "    </tr>\n",
              "    <tr>\n",
              "      <th>min</th>\n",
              "      <td>66.000000</td>\n",
              "    </tr>\n",
              "    <tr>\n",
              "      <th>25%</th>\n",
              "      <td>73.500000</td>\n",
              "    </tr>\n",
              "    <tr>\n",
              "      <th>50%</th>\n",
              "      <td>76.000000</td>\n",
              "    </tr>\n",
              "    <tr>\n",
              "      <th>75%</th>\n",
              "      <td>78.000000</td>\n",
              "    </tr>\n",
              "    <tr>\n",
              "      <th>max</th>\n",
              "      <td>84.000000</td>\n",
              "    </tr>\n",
              "  </tbody>\n",
              "</table>\n",
              "</div>"
            ],
            "text/plain": [
              "             Age\n",
              "count   4.000000\n",
              "mean   75.500000\n",
              "std     7.371115\n",
              "min    66.000000\n",
              "25%    73.500000\n",
              "50%    76.000000\n",
              "75%    78.000000\n",
              "max    84.000000"
            ]
          },
          "metadata": {
            "tags": []
          },
          "execution_count": 47
        }
      ]
    },
    {
      "cell_type": "code",
      "metadata": {
        "colab": {
          "base_uri": "https://localhost:8080/"
        },
        "id": "3jzuiL3UNHpP",
        "outputId": "a868d13b-af0a-4151-fd03-8d5fc717714c"
      },
      "source": [
        "# Reading CSV/DAT Files (from url or local file) and getting the first 5 elements\n",
        "daily = pd.read_csv('https://www1.nseindia.com/archives/nsccl/volt/CMVOLT_08012021.CSV')\n",
        "daily.head()"
      ],
      "execution_count": null,
      "outputs": [
        {
          "output_type": "execute_result",
          "data": {
            "text/html": [
              "<div>\n",
              "<style scoped>\n",
              "    .dataframe tbody tr th:only-of-type {\n",
              "        vertical-align: middle;\n",
              "    }\n",
              "\n",
              "    .dataframe tbody tr th {\n",
              "        vertical-align: top;\n",
              "    }\n",
              "\n",
              "    .dataframe thead th {\n",
              "        text-align: right;\n",
              "    }\n",
              "</style>\n",
              "<table border=\"1\" class=\"dataframe\">\n",
              "  <thead>\n",
              "    <tr style=\"text-align: right;\">\n",
              "      <th></th>\n",
              "      <th>Date</th>\n",
              "      <th>Symbol</th>\n",
              "      <th>Underlying Close Price (A)</th>\n",
              "      <th>Underlying Previous Day Close Price (B)</th>\n",
              "      <th>Underlying Log Returns (C) = LN(A/B)</th>\n",
              "      <th>Previous Day Underlying Volatility (D)</th>\n",
              "      <th>Current Day Underlying Daily Volatility (E) = Sqrt(0.995*D*D + 0.005*C*C)</th>\n",
              "      <th>Underlying Annualised Volatility (F) = E*Sqrt(365)</th>\n",
              "    </tr>\n",
              "  </thead>\n",
              "  <tbody>\n",
              "    <tr>\n",
              "      <th>0</th>\n",
              "      <td>08-JAN-2021</td>\n",
              "      <td>20MICRONS</td>\n",
              "      <td>41.65</td>\n",
              "      <td>40.75</td>\n",
              "      <td>0.0218</td>\n",
              "      <td>0.0315</td>\n",
              "      <td>0.0315</td>\n",
              "      <td>0.6018</td>\n",
              "    </tr>\n",
              "    <tr>\n",
              "      <th>1</th>\n",
              "      <td>08-JAN-2021</td>\n",
              "      <td>21STCENMGM</td>\n",
              "      <td>10.73</td>\n",
              "      <td>10.60</td>\n",
              "      <td>0.0122</td>\n",
              "      <td>0.0225</td>\n",
              "      <td>0.0224</td>\n",
              "      <td>0.4280</td>\n",
              "    </tr>\n",
              "    <tr>\n",
              "      <th>2</th>\n",
              "      <td>08-JAN-2021</td>\n",
              "      <td>3IINFOTECH</td>\n",
              "      <td>8.59</td>\n",
              "      <td>8.25</td>\n",
              "      <td>0.0404</td>\n",
              "      <td>0.0403</td>\n",
              "      <td>0.0403</td>\n",
              "      <td>0.7699</td>\n",
              "    </tr>\n",
              "    <tr>\n",
              "      <th>3</th>\n",
              "      <td>08-JAN-2021</td>\n",
              "      <td>3MINDIA</td>\n",
              "      <td>21734.10</td>\n",
              "      <td>21626.90</td>\n",
              "      <td>0.0049</td>\n",
              "      <td>0.0214</td>\n",
              "      <td>0.0214</td>\n",
              "      <td>0.4088</td>\n",
              "    </tr>\n",
              "    <tr>\n",
              "      <th>4</th>\n",
              "      <td>08-JAN-2021</td>\n",
              "      <td>3PLAND</td>\n",
              "      <td>10.77</td>\n",
              "      <td>11.00</td>\n",
              "      <td>-0.0211</td>\n",
              "      <td>0.0676</td>\n",
              "      <td>0.0675</td>\n",
              "      <td>1.2896</td>\n",
              "    </tr>\n",
              "  </tbody>\n",
              "</table>\n",
              "</div>"
            ],
            "text/plain": [
              "          Date  ... Underlying Annualised Volatility (F) = E*Sqrt(365)\n",
              "0  08-JAN-2021  ...                                             0.6018\n",
              "1  08-JAN-2021  ...                                             0.4280\n",
              "2  08-JAN-2021  ...                                             0.7699\n",
              "3  08-JAN-2021  ...                                             0.4088\n",
              "4  08-JAN-2021  ...                                             1.2896\n",
              "\n",
              "[5 rows x 8 columns]"
            ]
          },
          "metadata": {
            "tags": []
          },
          "execution_count": 48
        }
      ]
    },
    {
      "cell_type": "code",
      "metadata": {
        "colab": {
          "base_uri": "https://localhost:8080/"
        },
        "id": "-8fC5ro-WBHn",
        "outputId": "b6d25fa4-58f9-4fd0-97ea-803bd46ab68a"
      },
      "source": [
        "# First 10\n",
        "daily.head(10)"
      ],
      "execution_count": null,
      "outputs": [
        {
          "output_type": "execute_result",
          "data": {
            "text/html": [
              "<div>\n",
              "<style scoped>\n",
              "    .dataframe tbody tr th:only-of-type {\n",
              "        vertical-align: middle;\n",
              "    }\n",
              "\n",
              "    .dataframe tbody tr th {\n",
              "        vertical-align: top;\n",
              "    }\n",
              "\n",
              "    .dataframe thead th {\n",
              "        text-align: right;\n",
              "    }\n",
              "</style>\n",
              "<table border=\"1\" class=\"dataframe\">\n",
              "  <thead>\n",
              "    <tr style=\"text-align: right;\">\n",
              "      <th></th>\n",
              "      <th>Date</th>\n",
              "      <th>Symbol</th>\n",
              "      <th>Underlying Close Price (A)</th>\n",
              "      <th>Underlying Previous Day Close Price (B)</th>\n",
              "      <th>Underlying Log Returns (C) = LN(A/B)</th>\n",
              "      <th>Previous Day Underlying Volatility (D)</th>\n",
              "      <th>Current Day Underlying Daily Volatility (E) = Sqrt(0.995*D*D + 0.005*C*C)</th>\n",
              "      <th>Underlying Annualised Volatility (F) = E*Sqrt(365)</th>\n",
              "    </tr>\n",
              "  </thead>\n",
              "  <tbody>\n",
              "    <tr>\n",
              "      <th>0</th>\n",
              "      <td>08-JAN-2021</td>\n",
              "      <td>20MICRONS</td>\n",
              "      <td>41.65</td>\n",
              "      <td>40.75</td>\n",
              "      <td>0.0218</td>\n",
              "      <td>0.0315</td>\n",
              "      <td>0.0315</td>\n",
              "      <td>0.6018</td>\n",
              "    </tr>\n",
              "    <tr>\n",
              "      <th>1</th>\n",
              "      <td>08-JAN-2021</td>\n",
              "      <td>21STCENMGM</td>\n",
              "      <td>10.73</td>\n",
              "      <td>10.60</td>\n",
              "      <td>0.0122</td>\n",
              "      <td>0.0225</td>\n",
              "      <td>0.0224</td>\n",
              "      <td>0.4280</td>\n",
              "    </tr>\n",
              "    <tr>\n",
              "      <th>2</th>\n",
              "      <td>08-JAN-2021</td>\n",
              "      <td>3IINFOTECH</td>\n",
              "      <td>8.59</td>\n",
              "      <td>8.25</td>\n",
              "      <td>0.0404</td>\n",
              "      <td>0.0403</td>\n",
              "      <td>0.0403</td>\n",
              "      <td>0.7699</td>\n",
              "    </tr>\n",
              "    <tr>\n",
              "      <th>3</th>\n",
              "      <td>08-JAN-2021</td>\n",
              "      <td>3MINDIA</td>\n",
              "      <td>21734.10</td>\n",
              "      <td>21626.90</td>\n",
              "      <td>0.0049</td>\n",
              "      <td>0.0214</td>\n",
              "      <td>0.0214</td>\n",
              "      <td>0.4088</td>\n",
              "    </tr>\n",
              "    <tr>\n",
              "      <th>4</th>\n",
              "      <td>08-JAN-2021</td>\n",
              "      <td>3PLAND</td>\n",
              "      <td>10.77</td>\n",
              "      <td>11.00</td>\n",
              "      <td>-0.0211</td>\n",
              "      <td>0.0676</td>\n",
              "      <td>0.0675</td>\n",
              "      <td>1.2896</td>\n",
              "    </tr>\n",
              "    <tr>\n",
              "      <th>5</th>\n",
              "      <td>08-JAN-2021</td>\n",
              "      <td>500009</td>\n",
              "      <td>23.80</td>\n",
              "      <td>24.55</td>\n",
              "      <td>-0.0310</td>\n",
              "      <td>0.0381</td>\n",
              "      <td>0.0381</td>\n",
              "      <td>0.7279</td>\n",
              "    </tr>\n",
              "    <tr>\n",
              "      <th>6</th>\n",
              "      <td>08-JAN-2021</td>\n",
              "      <td>500012</td>\n",
              "      <td>61.65</td>\n",
              "      <td>61.40</td>\n",
              "      <td>0.0041</td>\n",
              "      <td>0.0355</td>\n",
              "      <td>0.0354</td>\n",
              "      <td>0.6763</td>\n",
              "    </tr>\n",
              "    <tr>\n",
              "      <th>7</th>\n",
              "      <td>08-JAN-2021</td>\n",
              "      <td>500014</td>\n",
              "      <td>2.56</td>\n",
              "      <td>2.44</td>\n",
              "      <td>0.0480</td>\n",
              "      <td>0.0482</td>\n",
              "      <td>0.0482</td>\n",
              "      <td>0.9209</td>\n",
              "    </tr>\n",
              "    <tr>\n",
              "      <th>8</th>\n",
              "      <td>08-JAN-2021</td>\n",
              "      <td>500016</td>\n",
              "      <td>7.25</td>\n",
              "      <td>6.91</td>\n",
              "      <td>0.0480</td>\n",
              "      <td>0.0350</td>\n",
              "      <td>0.0351</td>\n",
              "      <td>0.6706</td>\n",
              "    </tr>\n",
              "    <tr>\n",
              "      <th>9</th>\n",
              "      <td>08-JAN-2021</td>\n",
              "      <td>500028</td>\n",
              "      <td>6.48</td>\n",
              "      <td>6.18</td>\n",
              "      <td>0.0474</td>\n",
              "      <td>0.0356</td>\n",
              "      <td>0.0357</td>\n",
              "      <td>0.6820</td>\n",
              "    </tr>\n",
              "  </tbody>\n",
              "</table>\n",
              "</div>"
            ],
            "text/plain": [
              "          Date  ... Underlying Annualised Volatility (F) = E*Sqrt(365)\n",
              "0  08-JAN-2021  ...                                             0.6018\n",
              "1  08-JAN-2021  ...                                             0.4280\n",
              "2  08-JAN-2021  ...                                             0.7699\n",
              "3  08-JAN-2021  ...                                             0.4088\n",
              "4  08-JAN-2021  ...                                             1.2896\n",
              "5  08-JAN-2021  ...                                             0.7279\n",
              "6  08-JAN-2021  ...                                             0.6763\n",
              "7  08-JAN-2021  ...                                             0.9209\n",
              "8  08-JAN-2021  ...                                             0.6706\n",
              "9  08-JAN-2021  ...                                             0.6820\n",
              "\n",
              "[10 rows x 8 columns]"
            ]
          },
          "metadata": {
            "tags": []
          },
          "execution_count": 49
        }
      ]
    },
    {
      "cell_type": "code",
      "metadata": {
        "id": "9RVP1hqFWLDp"
      },
      "source": [
        "# Writing CSV File\n",
        "daily.to_csv('./daily.csv')"
      ],
      "execution_count": null,
      "outputs": []
    },
    {
      "cell_type": "code",
      "metadata": {
        "colab": {
          "base_uri": "https://localhost:8080/"
        },
        "id": "UdjinUJoWilp",
        "outputId": "d6f5d63b-5b70-4037-e710-917f5e6a125b"
      },
      "source": [
        "daily.info()"
      ],
      "execution_count": null,
      "outputs": [
        {
          "output_type": "stream",
          "text": [
            "<class 'pandas.core.frame.DataFrame'>\n",
            "RangeIndex: 4107 entries, 0 to 4106\n",
            "Data columns (total 8 columns):\n",
            " #   Column                                                                     Non-Null Count  Dtype \n",
            "---  ------                                                                     --------------  ----- \n",
            " 0   Date                                                                       4107 non-null   object\n",
            " 1   Symbol                                                                     4107 non-null   object\n",
            " 2   Underlying Close Price (A)                                                 4107 non-null   object\n",
            " 3   Underlying Previous Day Close Price (B)                                    4107 non-null   object\n",
            " 4   Underlying Log Returns (C) = LN(A/B)                                       4107 non-null   object\n",
            " 5   Previous Day Underlying Volatility (D)                                     4107 non-null   object\n",
            " 6   Current Day Underlying Daily Volatility (E) = Sqrt(0.995*D*D + 0.005*C*C)  4107 non-null   object\n",
            " 7   Underlying Annualised Volatility (F) = E*Sqrt(365)                         4107 non-null   object\n",
            "dtypes: object(8)\n",
            "memory usage: 256.8+ KB\n"
          ],
          "name": "stdout"
        }
      ]
    },
    {
      "cell_type": "code",
      "metadata": {
        "colab": {
          "base_uri": "https://localhost:8080/"
        },
        "id": "ghDW7KlAXFLd",
        "outputId": "d9d4e751-ff67-47e7-ebdf-09d8dd2924f1"
      },
      "source": [
        "daily[\"Symbol\"]"
      ],
      "execution_count": null,
      "outputs": [
        {
          "output_type": "execute_result",
          "data": {
            "text/plain": [
              "0        20MICRONS\n",
              "1       21STCENMGM\n",
              "2       3IINFOTECH\n",
              "3          3MINDIA\n",
              "4           3PLAND\n",
              "           ...    \n",
              "4102      SUNAYANA\n",
              "4103         SWATI\n",
              "4104    TECHAINPOW\n",
              "4105          TLFL\n",
              "4106    TRANSGLOBE\n",
              "Name: Symbol, Length: 4107, dtype: object"
            ]
          },
          "metadata": {
            "tags": []
          },
          "execution_count": 52
        }
      ]
    },
    {
      "cell_type": "code",
      "metadata": {
        "colab": {
          "base_uri": "https://localhost:8080/"
        },
        "id": "6FBaHvEoXIIH",
        "outputId": "a2e5d1d3-7d99-41d6-aec6-8f5a41b6eef7"
      },
      "source": [
        "daily.shape"
      ],
      "execution_count": null,
      "outputs": [
        {
          "output_type": "execute_result",
          "data": {
            "text/plain": [
              "(4107, 8)"
            ]
          },
          "metadata": {
            "tags": []
          },
          "execution_count": 53
        }
      ]
    },
    {
      "cell_type": "code",
      "metadata": {
        "id": "KkHN4v_PZTLs"
      },
      "source": [
        ""
      ],
      "execution_count": null,
      "outputs": []
    },
    {
      "cell_type": "code",
      "metadata": {
        "colab": {
          "base_uri": "https://localhost:8080/"
        },
        "id": "4F4Z1RZ1XPnY",
        "outputId": "c0763f28-c370-4f9c-db76-8b8a82f87e57"
      },
      "source": [
        "# Filtering by Masking\n",
        "daily[daily[\"Symbol\"] == \"RELIANCE\"]"
      ],
      "execution_count": null,
      "outputs": [
        {
          "output_type": "execute_result",
          "data": {
            "text/html": [
              "<div>\n",
              "<style scoped>\n",
              "    .dataframe tbody tr th:only-of-type {\n",
              "        vertical-align: middle;\n",
              "    }\n",
              "\n",
              "    .dataframe tbody tr th {\n",
              "        vertical-align: top;\n",
              "    }\n",
              "\n",
              "    .dataframe thead th {\n",
              "        text-align: right;\n",
              "    }\n",
              "</style>\n",
              "<table border=\"1\" class=\"dataframe\">\n",
              "  <thead>\n",
              "    <tr style=\"text-align: right;\">\n",
              "      <th></th>\n",
              "      <th>Date</th>\n",
              "      <th>Symbol</th>\n",
              "      <th>Underlying Close Price (A)</th>\n",
              "      <th>Underlying Previous Day Close Price (B)</th>\n",
              "      <th>Underlying Log Returns (C) = LN(A/B)</th>\n",
              "      <th>Previous Day Underlying Volatility (D)</th>\n",
              "      <th>Current Day Underlying Daily Volatility (E) = Sqrt(0.995*D*D + 0.005*C*C)</th>\n",
              "      <th>Underlying Annualised Volatility (F) = E*Sqrt(365)</th>\n",
              "    </tr>\n",
              "  </thead>\n",
              "  <tbody>\n",
              "    <tr>\n",
              "      <th>3497</th>\n",
              "      <td>08-JAN-2021</td>\n",
              "      <td>RELIANCE</td>\n",
              "      <td>1933.70</td>\n",
              "      <td>1911.15</td>\n",
              "      <td>0.0117</td>\n",
              "      <td>0.0244</td>\n",
              "      <td>0.0243</td>\n",
              "      <td>0.4643</td>\n",
              "    </tr>\n",
              "  </tbody>\n",
              "</table>\n",
              "</div>"
            ],
            "text/plain": [
              "             Date  ... Underlying Annualised Volatility (F) = E*Sqrt(365)\n",
              "3497  08-JAN-2021  ...                                             0.4643\n",
              "\n",
              "[1 rows x 8 columns]"
            ]
          },
          "metadata": {
            "tags": []
          },
          "execution_count": 54
        }
      ]
    },
    {
      "cell_type": "code",
      "metadata": {
        "id": "VRtokWSNZYiG"
      },
      "source": [
        "# Taking First 100\n",
        "subset=daily[:100]"
      ],
      "execution_count": null,
      "outputs": []
    },
    {
      "cell_type": "code",
      "metadata": {
        "colab": {
          "base_uri": "https://localhost:8080/"
        },
        "id": "qBIjAFZzXXum",
        "outputId": "4fcf70af-5fd2-4b41-dfdd-9f280dcad3e6"
      },
      "source": [
        "# As type converts a series to a particular type\n",
        "subset[subset[\"Underlying Previous Day Close Price (B)\"].astype(np.float64) > 1000]"
      ],
      "execution_count": null,
      "outputs": [
        {
          "output_type": "execute_result",
          "data": {
            "text/html": [
              "<div>\n",
              "<style scoped>\n",
              "    .dataframe tbody tr th:only-of-type {\n",
              "        vertical-align: middle;\n",
              "    }\n",
              "\n",
              "    .dataframe tbody tr th {\n",
              "        vertical-align: top;\n",
              "    }\n",
              "\n",
              "    .dataframe thead th {\n",
              "        text-align: right;\n",
              "    }\n",
              "</style>\n",
              "<table border=\"1\" class=\"dataframe\">\n",
              "  <thead>\n",
              "    <tr style=\"text-align: right;\">\n",
              "      <th></th>\n",
              "      <th>Date</th>\n",
              "      <th>Symbol</th>\n",
              "      <th>Underlying Close Price (A)</th>\n",
              "      <th>Underlying Previous Day Close Price (B)</th>\n",
              "      <th>Underlying Log Returns (C) = LN(A/B)</th>\n",
              "      <th>Previous Day Underlying Volatility (D)</th>\n",
              "      <th>Current Day Underlying Daily Volatility (E) = Sqrt(0.995*D*D + 0.005*C*C)</th>\n",
              "      <th>Underlying Annualised Volatility (F) = E*Sqrt(365)</th>\n",
              "    </tr>\n",
              "  </thead>\n",
              "  <tbody>\n",
              "    <tr>\n",
              "      <th>3</th>\n",
              "      <td>08-JAN-2021</td>\n",
              "      <td>3MINDIA</td>\n",
              "      <td>21734.10</td>\n",
              "      <td>21626.90</td>\n",
              "      <td>0.0049</td>\n",
              "      <td>0.0214</td>\n",
              "      <td>0.0214</td>\n",
              "      <td>0.4088</td>\n",
              "    </tr>\n",
              "    <tr>\n",
              "      <th>10</th>\n",
              "      <td>08-JAN-2021</td>\n",
              "      <td>500068</td>\n",
              "      <td>4050.00</td>\n",
              "      <td>4019.55</td>\n",
              "      <td>0.0075</td>\n",
              "      <td>0.0261</td>\n",
              "      <td>0.0260</td>\n",
              "      <td>0.4967</td>\n",
              "    </tr>\n",
              "    <tr>\n",
              "      <th>13</th>\n",
              "      <td>08-JAN-2021</td>\n",
              "      <td>500123</td>\n",
              "      <td>3064.80</td>\n",
              "      <td>3108.90</td>\n",
              "      <td>-0.0143</td>\n",
              "      <td>0.0357</td>\n",
              "      <td>0.0356</td>\n",
              "      <td>0.6801</td>\n",
              "    </tr>\n",
              "    <tr>\n",
              "      <th>26</th>\n",
              "      <td>08-JAN-2021</td>\n",
              "      <td>500214</td>\n",
              "      <td>1079.80</td>\n",
              "      <td>1032.60</td>\n",
              "      <td>0.0447</td>\n",
              "      <td>0.0278</td>\n",
              "      <td>0.0280</td>\n",
              "      <td>0.5349</td>\n",
              "    </tr>\n",
              "    <tr>\n",
              "      <th>39</th>\n",
              "      <td>08-JAN-2021</td>\n",
              "      <td>500298</td>\n",
              "      <td>2104.70</td>\n",
              "      <td>2096.30</td>\n",
              "      <td>0.0040</td>\n",
              "      <td>0.0349</td>\n",
              "      <td>0.0348</td>\n",
              "      <td>0.6649</td>\n",
              "    </tr>\n",
              "    <tr>\n",
              "      <th>65</th>\n",
              "      <td>08-JAN-2021</td>\n",
              "      <td>501298</td>\n",
              "      <td>1116.80</td>\n",
              "      <td>1096.50</td>\n",
              "      <td>0.0183</td>\n",
              "      <td>0.0241</td>\n",
              "      <td>0.0241</td>\n",
              "      <td>0.4604</td>\n",
              "    </tr>\n",
              "    <tr>\n",
              "      <th>93</th>\n",
              "      <td>08-JAN-2021</td>\n",
              "      <td>502865</td>\n",
              "      <td>1633.60</td>\n",
              "      <td>1628.65</td>\n",
              "      <td>0.0030</td>\n",
              "      <td>0.0323</td>\n",
              "      <td>0.0322</td>\n",
              "      <td>0.6152</td>\n",
              "    </tr>\n",
              "    <tr>\n",
              "      <th>96</th>\n",
              "      <td>08-JAN-2021</td>\n",
              "      <td>502901</td>\n",
              "      <td>2450.00</td>\n",
              "      <td>2450.00</td>\n",
              "      <td>0.0000</td>\n",
              "      <td>0.0267</td>\n",
              "      <td>0.0267</td>\n",
              "      <td>0.5101</td>\n",
              "    </tr>\n",
              "    <tr>\n",
              "      <th>97</th>\n",
              "      <td>08-JAN-2021</td>\n",
              "      <td>502958</td>\n",
              "      <td>1894.35</td>\n",
              "      <td>1923.60</td>\n",
              "      <td>-0.0153</td>\n",
              "      <td>0.0355</td>\n",
              "      <td>0.0354</td>\n",
              "      <td>0.6763</td>\n",
              "    </tr>\n",
              "  </tbody>\n",
              "</table>\n",
              "</div>"
            ],
            "text/plain": [
              "           Date  ... Underlying Annualised Volatility (F) = E*Sqrt(365)\n",
              "3   08-JAN-2021  ...                                             0.4088\n",
              "10  08-JAN-2021  ...                                             0.4967\n",
              "13  08-JAN-2021  ...                                             0.6801\n",
              "26  08-JAN-2021  ...                                             0.5349\n",
              "39  08-JAN-2021  ...                                             0.6649\n",
              "65  08-JAN-2021  ...                                             0.4604\n",
              "93  08-JAN-2021  ...                                             0.6152\n",
              "96  08-JAN-2021  ...                                             0.5101\n",
              "97  08-JAN-2021  ...                                             0.6763\n",
              "\n",
              "[9 rows x 8 columns]"
            ]
          },
          "metadata": {
            "tags": []
          },
          "execution_count": 56
        }
      ]
    },
    {
      "cell_type": "code",
      "metadata": {
        "colab": {
          "base_uri": "https://localhost:8080/"
        },
        "id": "rbhf6024aGx7",
        "outputId": "69f6960a-4f88-473c-c32f-ea41d099e3c8"
      },
      "source": [
        "# Selecting Multiple Columns\n",
        "subset[[\"Symbol\", \"Underlying Previous Day Close Price (B)\"]]"
      ],
      "execution_count": null,
      "outputs": [
        {
          "output_type": "execute_result",
          "data": {
            "text/html": [
              "<div>\n",
              "<style scoped>\n",
              "    .dataframe tbody tr th:only-of-type {\n",
              "        vertical-align: middle;\n",
              "    }\n",
              "\n",
              "    .dataframe tbody tr th {\n",
              "        vertical-align: top;\n",
              "    }\n",
              "\n",
              "    .dataframe thead th {\n",
              "        text-align: right;\n",
              "    }\n",
              "</style>\n",
              "<table border=\"1\" class=\"dataframe\">\n",
              "  <thead>\n",
              "    <tr style=\"text-align: right;\">\n",
              "      <th></th>\n",
              "      <th>Symbol</th>\n",
              "      <th>Underlying Previous Day Close Price (B)</th>\n",
              "    </tr>\n",
              "  </thead>\n",
              "  <tbody>\n",
              "    <tr>\n",
              "      <th>0</th>\n",
              "      <td>20MICRONS</td>\n",
              "      <td>40.75</td>\n",
              "    </tr>\n",
              "    <tr>\n",
              "      <th>1</th>\n",
              "      <td>21STCENMGM</td>\n",
              "      <td>10.60</td>\n",
              "    </tr>\n",
              "    <tr>\n",
              "      <th>2</th>\n",
              "      <td>3IINFOTECH</td>\n",
              "      <td>8.25</td>\n",
              "    </tr>\n",
              "    <tr>\n",
              "      <th>3</th>\n",
              "      <td>3MINDIA</td>\n",
              "      <td>21626.90</td>\n",
              "    </tr>\n",
              "    <tr>\n",
              "      <th>4</th>\n",
              "      <td>3PLAND</td>\n",
              "      <td>11.00</td>\n",
              "    </tr>\n",
              "    <tr>\n",
              "      <th>...</th>\n",
              "      <td>...</td>\n",
              "      <td>...</td>\n",
              "    </tr>\n",
              "    <tr>\n",
              "      <th>95</th>\n",
              "      <td>502893</td>\n",
              "      <td>11.16</td>\n",
              "    </tr>\n",
              "    <tr>\n",
              "      <th>96</th>\n",
              "      <td>502901</td>\n",
              "      <td>2450.00</td>\n",
              "    </tr>\n",
              "    <tr>\n",
              "      <th>97</th>\n",
              "      <td>502958</td>\n",
              "      <td>1923.60</td>\n",
              "    </tr>\n",
              "    <tr>\n",
              "      <th>98</th>\n",
              "      <td>503015</td>\n",
              "      <td>43.80</td>\n",
              "    </tr>\n",
              "    <tr>\n",
              "      <th>99</th>\n",
              "      <td>503092</td>\n",
              "      <td>8.17</td>\n",
              "    </tr>\n",
              "  </tbody>\n",
              "</table>\n",
              "<p>100 rows × 2 columns</p>\n",
              "</div>"
            ],
            "text/plain": [
              "        Symbol Underlying Previous Day Close Price (B)\n",
              "0    20MICRONS                                   40.75\n",
              "1   21STCENMGM                                   10.60\n",
              "2   3IINFOTECH                                    8.25\n",
              "3      3MINDIA                                21626.90\n",
              "4       3PLAND                                   11.00\n",
              "..         ...                                     ...\n",
              "95      502893                                   11.16\n",
              "96      502901                                 2450.00\n",
              "97      502958                                 1923.60\n",
              "98      503015                                   43.80\n",
              "99      503092                                    8.17\n",
              "\n",
              "[100 rows x 2 columns]"
            ]
          },
          "metadata": {
            "tags": []
          },
          "execution_count": 57
        }
      ]
    },
    {
      "cell_type": "code",
      "metadata": {
        "colab": {
          "base_uri": "https://localhost:8080/"
        },
        "id": "1DgPdWWJaZTF",
        "outputId": "9e98822e-625d-49ed-d9a1-c707f200e767"
      },
      "source": [
        "# Selecting by index\n",
        "daily.iloc[9:25, 2:5]"
      ],
      "execution_count": null,
      "outputs": [
        {
          "output_type": "execute_result",
          "data": {
            "text/html": [
              "<div>\n",
              "<style scoped>\n",
              "    .dataframe tbody tr th:only-of-type {\n",
              "        vertical-align: middle;\n",
              "    }\n",
              "\n",
              "    .dataframe tbody tr th {\n",
              "        vertical-align: top;\n",
              "    }\n",
              "\n",
              "    .dataframe thead th {\n",
              "        text-align: right;\n",
              "    }\n",
              "</style>\n",
              "<table border=\"1\" class=\"dataframe\">\n",
              "  <thead>\n",
              "    <tr style=\"text-align: right;\">\n",
              "      <th></th>\n",
              "      <th>Underlying Close Price (A)</th>\n",
              "      <th>Underlying Previous Day Close Price (B)</th>\n",
              "      <th>Underlying Log Returns (C) = LN(A/B)</th>\n",
              "    </tr>\n",
              "  </thead>\n",
              "  <tbody>\n",
              "    <tr>\n",
              "      <th>9</th>\n",
              "      <td>6.48</td>\n",
              "      <td>6.18</td>\n",
              "      <td>0.0474</td>\n",
              "    </tr>\n",
              "    <tr>\n",
              "      <th>10</th>\n",
              "      <td>4050.00</td>\n",
              "      <td>4019.55</td>\n",
              "      <td>0.0075</td>\n",
              "    </tr>\n",
              "    <tr>\n",
              "      <th>11</th>\n",
              "      <td>101.00</td>\n",
              "      <td>99.55</td>\n",
              "      <td>0.0145</td>\n",
              "    </tr>\n",
              "    <tr>\n",
              "      <th>12</th>\n",
              "      <td>377.30</td>\n",
              "      <td>379.40</td>\n",
              "      <td>-0.0056</td>\n",
              "    </tr>\n",
              "    <tr>\n",
              "      <th>13</th>\n",
              "      <td>3064.80</td>\n",
              "      <td>3108.90</td>\n",
              "      <td>-0.0143</td>\n",
              "    </tr>\n",
              "    <tr>\n",
              "      <th>14</th>\n",
              "      <td>1.12</td>\n",
              "      <td>1.07</td>\n",
              "      <td>0.0457</td>\n",
              "    </tr>\n",
              "    <tr>\n",
              "      <th>15</th>\n",
              "      <td>20.35</td>\n",
              "      <td>20.50</td>\n",
              "      <td>-0.0073</td>\n",
              "    </tr>\n",
              "    <tr>\n",
              "      <th>16</th>\n",
              "      <td>832.70</td>\n",
              "      <td>831.20</td>\n",
              "      <td>0.0018</td>\n",
              "    </tr>\n",
              "    <tr>\n",
              "      <th>17</th>\n",
              "      <td>59.35</td>\n",
              "      <td>59.60</td>\n",
              "      <td>-0.0042</td>\n",
              "    </tr>\n",
              "    <tr>\n",
              "      <th>18</th>\n",
              "      <td>57.45</td>\n",
              "      <td>57.00</td>\n",
              "      <td>0.0079</td>\n",
              "    </tr>\n",
              "    <tr>\n",
              "      <th>19</th>\n",
              "      <td>264.15</td>\n",
              "      <td>267.40</td>\n",
              "      <td>-0.0122</td>\n",
              "    </tr>\n",
              "    <tr>\n",
              "      <th>20</th>\n",
              "      <td>2.31</td>\n",
              "      <td>2.43</td>\n",
              "      <td>-0.0506</td>\n",
              "    </tr>\n",
              "    <tr>\n",
              "      <th>21</th>\n",
              "      <td>10.02</td>\n",
              "      <td>9.55</td>\n",
              "      <td>0.0480</td>\n",
              "    </tr>\n",
              "    <tr>\n",
              "      <th>22</th>\n",
              "      <td>7.60</td>\n",
              "      <td>8.00</td>\n",
              "      <td>-0.0513</td>\n",
              "    </tr>\n",
              "    <tr>\n",
              "      <th>23</th>\n",
              "      <td>10.61</td>\n",
              "      <td>10.70</td>\n",
              "      <td>-0.0084</td>\n",
              "    </tr>\n",
              "    <tr>\n",
              "      <th>24</th>\n",
              "      <td>24.40</td>\n",
              "      <td>23.25</td>\n",
              "      <td>0.0483</td>\n",
              "    </tr>\n",
              "  </tbody>\n",
              "</table>\n",
              "</div>"
            ],
            "text/plain": [
              "   Underlying Close Price (A)  ... Underlying Log Returns (C) = LN(A/B)\n",
              "9                        6.48  ...                               0.0474\n",
              "10                    4050.00  ...                               0.0075\n",
              "11                     101.00  ...                               0.0145\n",
              "12                     377.30  ...                              -0.0056\n",
              "13                    3064.80  ...                              -0.0143\n",
              "14                       1.12  ...                               0.0457\n",
              "15                      20.35  ...                              -0.0073\n",
              "16                     832.70  ...                               0.0018\n",
              "17                      59.35  ...                              -0.0042\n",
              "18                      57.45  ...                               0.0079\n",
              "19                     264.15  ...                              -0.0122\n",
              "20                       2.31  ...                              -0.0506\n",
              "21                      10.02  ...                               0.0480\n",
              "22                       7.60  ...                              -0.0513\n",
              "23                      10.61  ...                              -0.0084\n",
              "24                      24.40  ...                               0.0483\n",
              "\n",
              "[16 rows x 3 columns]"
            ]
          },
          "metadata": {
            "tags": []
          },
          "execution_count": 58
        }
      ]
    },
    {
      "cell_type": "code",
      "metadata": {
        "colab": {
          "base_uri": "https://localhost:8080/"
        },
        "id": "LTO299hKaiOi",
        "outputId": "9a7945f0-27b7-4a10-9f7d-2d6ea1b97de5"
      },
      "source": [
        "# A simple plot\n",
        "pd.DataFrame({\"x\":[1,2,3], \"y\": [10, 50, 100]}).plot()"
      ],
      "execution_count": null,
      "outputs": [
        {
          "output_type": "execute_result",
          "data": {
            "text/plain": [
              "<matplotlib.axes._subplots.AxesSubplot at 0x7f0798a6ae48>"
            ]
          },
          "metadata": {
            "tags": []
          },
          "execution_count": 59
        },
        {
          "output_type": "display_data",
          "data": {
            "image/png": "[encoded data removed]",
            "text/plain": [
              "<Figure size 432x288 with 1 Axes>"
            ]
          },
          "metadata": {
            "tags": [],
            "needs_background": "light"
          }
        }
      ]
    },
    {
      "cell_type": "code",
      "metadata": {
        "id": "uI8GASXxa7bU"
      },
      "source": [
        ""
      ],
      "execution_count": null,
      "outputs": []
    },
    {
      "cell_type": "markdown",
      "metadata": {
        "id": "SAAMc5nYyjkb"
      },
      "source": [
        "# Matplotlib"
      ]
    },
    {
      "cell_type": "code",
      "metadata": {
        "colab": {
          "base_uri": "https://localhost:8080/",
          "height": 282
        },
        "id": "JjFlB1OOyl9d",
        "outputId": "651ee7c8-dc3f-4038-daec-cdbafe579e3c"
      },
      "source": [
        "%matplotlib inline \n",
        "# Inline plots\n",
        "import matplotlib.pyplot as plt\n",
        "x=np.linspace(1,100,10)\n",
        "y=np.linspace(1,100,10)**2\n",
        "plt.plot(x,y) \n"
      ],
      "execution_count": 18,
      "outputs": [
        {
          "output_type": "execute_result",
          "data": {
            "text/plain": [
              "[<matplotlib.lines.Line2D at 0x7f3acf707198>]"
            ]
          },
          "metadata": {
            "tags": []
          },
          "execution_count": 18
        },
        {
          "output_type": "display_data",
          "data": {
            "image/png": "[encoded data removed]",
            "text/plain": [
              "<Figure size 432x288 with 1 Axes>"
            ]
          },
          "metadata": {
            "tags": [],
            "needs_background": "light"
          }
        }
      ]
    },
    {
      "cell_type": "code",
      "metadata": {
        "colab": {
          "base_uri": "https://localhost:8080/",
          "height": 282
        },
        "id": "2Y1iKfizy7b3",
        "outputId": "1b1a5263-1cab-47a6-e060-c2e1b911b806"
      },
      "source": [
        "# Plotting images\n",
        "image=np.random.uniform(0, 255, size=(10,10)) # cmap can be used to change the color pallete\n",
        "plt.imshow(image)"
      ],
      "execution_count": 19,
      "outputs": [
        {
          "output_type": "execute_result",
          "data": {
            "text/plain": [
              "<matplotlib.image.AxesImage at 0x7f3acf6965c0>"
            ]
          },
          "metadata": {
            "tags": []
          },
          "execution_count": 19
        },
        {
          "output_type": "display_data",
          "data": {
            "image/png": "[encoded data removed]",
            "text/plain": [
              "<Figure size 432x288 with 1 Axes>"
            ]
          },
          "metadata": {
            "tags": [],
            "needs_background": "light"
          }
        }
      ]
    },
    {
      "cell_type": "code",
      "metadata": {
        "colab": {
          "base_uri": "https://localhost:8080/",
          "height": 282
        },
        "id": "BvNpt1cwvYET",
        "outputId": "6999cfd5-3bbe-4c48-facd-8b8f3f9f68de"
      },
      "source": [
        "plt.scatter(x,y)"
      ],
      "execution_count": 28,
      "outputs": [
        {
          "output_type": "execute_result",
          "data": {
            "text/plain": [
              "<matplotlib.collections.PathCollection at 0x7f3aced702b0>"
            ]
          },
          "metadata": {
            "tags": []
          },
          "execution_count": 28
        },
        {
          "output_type": "display_data",
          "data": {
            "image/png": "[encoded data removed]",
            "text/plain": [
              "<Figure size 432x288 with 1 Axes>"
            ]
          },
          "metadata": {
            "tags": [],
            "needs_background": "light"
          }
        }
      ]
    },
    {
      "cell_type": "code",
      "metadata": {
        "colab": {
          "base_uri": "https://localhost:8080/",
          "height": 349
        },
        "id": "-JqvW2vHzJkt",
        "outputId": "b9ada332-7355-4c99-e865-5b2445d9e496"
      },
      "source": [
        "# histogram\r\n",
        "data = np.random.randn(1000)\r\n",
        "plt.hist(data)"
      ],
      "execution_count": 30,
      "outputs": [
        {
          "output_type": "execute_result",
          "data": {
            "text/plain": [
              "(array([  4.,  16.,  51., 116., 184., 208., 225., 132.,  50.,  14.]),\n",
              " array([-3.12413376, -2.55487076, -1.98560776, -1.41634475, -0.84708175,\n",
              "        -0.27781874,  0.29144426,  0.86070726,  1.42997027,  1.99923327,\n",
              "         2.56849627]),\n",
              " <a list of 10 Patch objects>)"
            ]
          },
          "metadata": {
            "tags": []
          },
          "execution_count": 30
        },
        {
          "output_type": "display_data",
          "data": {
            "image/png": "[encoded data removed]",
            "text/plain": [
              "<Figure size 432x288 with 1 Axes>"
            ]
          },
          "metadata": {
            "tags": [],
            "needs_background": "light"
          }
        }
      ]
    },
    {
      "cell_type": "code",
      "metadata": {
        "id": "WKGYg84Nzr73"
      },
      "source": [
        ""
      ],
      "execution_count": null,
      "outputs": []
    }
  ]
}